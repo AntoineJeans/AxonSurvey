{
 "cells": [
  {
   "cell_type": "code",
   "execution_count": null,
   "id": "6d2259da",
   "metadata": {},
   "outputs": [],
   "source": [
    "from .src.dataprep.TracingChecker import TracingChecker"
   ]
  },
  {
   "cell_type": "code",
   "execution_count": null,
   "id": "94a8b691",
   "metadata": {},
   "outputs": [],
   "source": [
    "test_dataset_path = r\".\\data\\tracings\\rat301_test\"\n",
    "test_dataset_folder = [test_dataset_path]\n",
    "rmse_confidence = 0.95\n",
    "inference_confidence = 0.95\n",
    "img_input_size = 128\n",
    "input_shape = (img_input_size,img_input_size)\n",
    "\n",
    "checker = TracingChecker(test_dataset_path)\n",
    "checker.check()"
   ]
  },
  {
   "cell_type": "code",
   "execution_count": null,
   "id": "14070853",
   "metadata": {},
   "outputs": [],
   "source": [
    "groups = [['ipsi_outer', 'contra_outer'], ['ipsi_inner', 'contra_inner']]\n",
    "group_labels = [\"Superficial\", \"Deep\"]\n",
    "n_groups = len(groups)\n",
    "checker.statistical_test_between_groups(groups, group_labels=group_labels)\n",
    "checker.display_densities_for_groups(groups, group_labels=group_labels)"
   ]
  },
  {
   "cell_type": "code",
   "execution_count": null,
   "id": "9cb39f17",
   "metadata": {},
   "outputs": [],
   "source": [
    "groups = [['contra_inner', 'contra_outer'], ['ipsi_inner', 'ipsi_outer']]\n",
    "group_labels = [\"Contralesional\", \"Ipsilesional\"]\n",
    "n_groups = len(groups)\n",
    "checker.statistical_test_between_groups(groups, group_labels=group_labels)\n",
    "checker.display_densities_for_groups(groups, group_labels=group_labels)"
   ]
  }
 ],
 "metadata": {
  "kernelspec": {
   "display_name": "antoine_axones",
   "language": "python",
   "name": "python3"
  },
  "language_info": {
   "codemirror_mode": {
    "name": "ipython",
    "version": 3
   },
   "file_extension": ".py",
   "mimetype": "text/x-python",
   "name": "python",
   "nbconvert_exporter": "python",
   "pygments_lexer": "ipython3",
   "version": "3.12.9"
  }
 },
 "nbformat": 4,
 "nbformat_minor": 5
}
