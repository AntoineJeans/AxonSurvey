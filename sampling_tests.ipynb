{
 "cells": [
  {
   "cell_type": "code",
   "execution_count": 1,
   "id": "98955234",
   "metadata": {},
   "outputs": [],
   "source": [
    "import os"
   ]
  },
  {
   "cell_type": "code",
   "execution_count": 2,
   "id": "14e323fb",
   "metadata": {},
   "outputs": [],
   "source": [
    "from src.dataprep.TracingChecker import TracingChecker"
   ]
  },
  {
   "cell_type": "code",
   "execution_count": 3,
   "id": "1bb76022",
   "metadata": {},
   "outputs": [],
   "source": [
    "debug = True"
   ]
  },
  {
   "cell_type": "code",
   "execution_count": 4,
   "id": "9ca2c173",
   "metadata": {},
   "outputs": [],
   "source": [
    "# DEPRECATED WITH NEW SAMPLING APPROACH\n",
    "# existing_labeled_dataset = r\".\\data\\tracings\\invalid_rat301_test\"\n",
    "# TracingChecker(existing_labeled_dataset).check()"
   ]
  },
  {
   "cell_type": "code",
   "execution_count": 5,
   "id": "6777f04f",
   "metadata": {},
   "outputs": [],
   "source": [
    "read_path = r\".\\data\\project_scans\"\n",
    "subregion_list = ['contra_inner', 'contra_outer', 'ipsi_inner', 'ipsi_outer']\n",
    "# How should I explain and insert groups here?\n",
    "# this is just an example \n",
    "groups = [['ipsi_outer', 'contra_outer'], ['ipsi_inner', 'contra_inner']]\n",
    "group_labels = [\"Superficial\", \"Deep Layer\"]\n",
    "\n",
    "train_write_path = r\".\\data\\tracings_round_2\\train\" \n",
    "test_write_path = r\".\\data\\tracings_round_2\\test\"\n",
    "\n",
    "os.makedirs(train_write_path, exist_ok=True)\n",
    "os.makedirs(test_write_path, exist_ok=True)\n",
    "\n",
    "train_sample_dimensions = (256,256) # can be bigger because for training we can accept training data is non i.i.d \n",
    "test_sample_dimensions = (256,256) # smaller because of regional dependance, we want to have as big an effective sample size as possible"
   ]
  },
  {
   "cell_type": "code",
   "execution_count": 6,
   "id": "f45b3d91",
   "metadata": {},
   "outputs": [],
   "source": [
    "# sample the structure\n",
    "uniform_sampling = True\n",
    "stratify_by_region = True\n",
    "\n",
    "n_train = 100\n",
    "n_test = 100\n",
    "channel = \"th\""
   ]
  },
  {
   "cell_type": "code",
   "execution_count": 7,
   "id": "c110219c",
   "metadata": {},
   "outputs": [
    {
     "ename": "TypeError",
     "evalue": "src.dataprep.SamplingStrategies.SamplingStrategy.__init__() got multiple values for keyword argument 'stratify_group'",
     "output_type": "error",
     "traceback": [
      "\u001b[1;31m---------------------------------------------------------------------------\u001b[0m",
      "\u001b[1;31mTypeError\u001b[0m                                 Traceback (most recent call last)",
      "Cell \u001b[1;32mIn[7], line 4\u001b[0m\n\u001b[0;32m      1\u001b[0m \u001b[38;5;28;01mfrom\u001b[39;00m\u001b[38;5;250m \u001b[39m\u001b[38;5;21;01msrc\u001b[39;00m\u001b[38;5;21;01m.\u001b[39;00m\u001b[38;5;21;01mdataprep\u001b[39;00m\u001b[38;5;21;01m.\u001b[39;00m\u001b[38;5;21;01mSamplingStrategies\u001b[39;00m\u001b[38;5;250m \u001b[39m\u001b[38;5;28;01mimport\u001b[39;00m SRS, StratifiedSamplingStrategy\n\u001b[0;32m      3\u001b[0m \u001b[38;5;66;03m# SRS strategy doesn't need to be aware of groups for training, the models should perform well across images. \u001b[39;00m\n\u001b[1;32m----> 4\u001b[0m training_sample_strategy \u001b[38;5;241m=\u001b[39m \u001b[43mSRS\u001b[49m\u001b[43m(\u001b[49m\u001b[43mread_path\u001b[49m\u001b[43m,\u001b[49m\u001b[43m \u001b[49m\u001b[43mchannel\u001b[49m\u001b[43m,\u001b[49m\u001b[43m \u001b[49m\u001b[43mtrain_sample_dimensions\u001b[49m\u001b[43m,\u001b[49m\u001b[43m \u001b[49m\u001b[43mstratify_by_region\u001b[49m\u001b[43m,\u001b[49m\n\u001b[0;32m      5\u001b[0m \u001b[43m                               \u001b[49m\u001b[43mstratify_group\u001b[49m\u001b[38;5;241;43m=\u001b[39;49m\u001b[38;5;28;43;01mTrue\u001b[39;49;00m\u001b[43m,\u001b[49m\u001b[43m \u001b[49m\u001b[43mgroups\u001b[49m\u001b[38;5;241;43m=\u001b[39;49m\u001b[38;5;28;43;01mNone\u001b[39;49;00m\u001b[43m)\u001b[49m\n\u001b[0;32m      7\u001b[0m \u001b[38;5;66;03m# Test sampling strategy, however, should be specialized to answer a specific question\u001b[39;00m\n\u001b[0;32m      8\u001b[0m test_sample_strategy \u001b[38;5;241m=\u001b[39m StratifiedSamplingStrategy(read_path, channel, test_sample_dimensions, stratify_by_region,\n\u001b[0;32m      9\u001b[0m                                 stratify_group\u001b[38;5;241m=\u001b[39m\u001b[38;5;28;01mTrue\u001b[39;00m, groups\u001b[38;5;241m=\u001b[39mgroups)\n",
      "File \u001b[1;32mc:\\Users\\Antoine\\Desktop\\rat brain\\projet\\src\\dataprep\\SamplingStrategies.py:86\u001b[0m, in \u001b[0;36mSRS.__init__\u001b[1;34m(stratify_regions, *args, **kwargs)\u001b[0m\n\u001b[0;32m     84\u001b[0m \u001b[38;5;28;01mdef\u001b[39;00m\u001b[38;5;250m \u001b[39m\u001b[38;5;21m__init__\u001b[39m(stratify_regions\u001b[38;5;241m=\u001b[39m\u001b[38;5;28;01mTrue\u001b[39;00m, \u001b[38;5;241m*\u001b[39margs, \u001b[38;5;241m*\u001b[39m\u001b[38;5;241m*\u001b[39mkwargs):\n\u001b[0;32m     85\u001b[0m \u001b[38;5;250m    \u001b[39m\u001b[38;5;124;03m\"\"\"Initialize SRS sampling strategy.\"\"\"\u001b[39;00m\n\u001b[1;32m---> 86\u001b[0m     \u001b[38;5;28msuper\u001b[39m()\u001b[38;5;241m.\u001b[39m\u001b[38;5;21m__init__\u001b[39m(stratify_regions, stratify_group\u001b[38;5;241m=\u001b[39m\u001b[38;5;28;01mTrue\u001b[39;00m, \u001b[38;5;241m*\u001b[39margs, \u001b[38;5;241m*\u001b[39m\u001b[38;5;241m*\u001b[39mkwargs)\n",
      "\u001b[1;31mTypeError\u001b[0m: src.dataprep.SamplingStrategies.SamplingStrategy.__init__() got multiple values for keyword argument 'stratify_group'"
     ]
    }
   ],
   "source": [
    "from src.dataprep.SamplingStrategies import SRS, StratifiedSamplingStrategy\n",
    "\n",
    "# SRS strategy doesn't need to be aware of groups for training, the models should perform well across images. \n",
    "training_sample_strategy = SRS(read_path, channel, train_sample_dimensions, stratify_by_region,\n",
    "                               stratify_group=True, groups=None)\n",
    "\n",
    "# Test sampling strategy, however, should be specialized to answer a specific question\n",
    "test_sample_strategy = StratifiedSamplingStrategy(read_path, channel, test_sample_dimensions, stratify_by_region,\n",
    "                                stratify_group=True, groups=groups)"
   ]
  },
  {
   "cell_type": "code",
   "execution_count": null,
   "id": "d7df3501",
   "metadata": {},
   "outputs": [],
   "source": [
    "# Some sampling strategies can be used to suggest n_train or n_test\n",
    "# Integrate this"
   ]
  },
  {
   "cell_type": "code",
   "execution_count": null,
   "id": "8cd7db46",
   "metadata": {},
   "outputs": [],
   "source": [
    "from .src.dataprep.SampleSaver import SampleSaver\n",
    "\n",
    "train_samp = SampleSaver(train_write_path, training_sample_strategy)\n",
    "if not debug: train_samp.create_dataset(n_train)\n",
    "\n",
    "test_samp = SampleSaver(test_write_path, test_sample_strategy)\n",
    "if not debug: test_samp.create_dataset(n_test)"
   ]
  },
  {
   "cell_type": "code",
   "execution_count": null,
   "id": "297b6f84",
   "metadata": {},
   "outputs": [],
   "source": [
    "# If the project necessitates a validation dataset (lots of hyperparameter tuning and large enough labeling budget)\n",
    "# it can be done, but in my case I don't see a reason\n",
    "use_validation = False\n",
    "if use_validation:\n",
    "    # The sampling strategy of that set also depends on what it would be used for\n",
    "    val_write_path = r\".\\data\\tracings_round_2\\val\"\n",
    "    os.makedirs(val_write_path, exist_ok=True)\n",
    "    val_sample_strategy = SRS(read_path, channel, test_sample_dimensions, stratify_by_region,\n",
    "                               stratify_group=True, groups=None)\n",
    "    val_samp = SampleSaver(test_write_path, test_sample_strategy)\n",
    "    if not debug: val_samp.create_dataset(n_test)"
   ]
  },
  {
   "cell_type": "code",
   "execution_count": null,
   "id": "ee5453a2",
   "metadata": {},
   "outputs": [],
   "source": [
    "if not debug: # Datasets should have been created\n",
    "    train_checker = TracingChecker(root_read_dir=train_write_path)\n",
    "    train_checker.check()\n",
    "\n",
    "    test_checker = TracingChecker(root_read_dir=test_write_path)\n",
    "    test_checker.check()\n",
    "    \n",
    "    if use_validation: \n",
    "        val_checker = TracingChecker(root_read_dir=val_write_path)\n",
    "        val_checker.check()\n",
    "    # If all of this looks good, you can proceed to the fun part... manually tracing axons :) ! "
   ]
  },
  {
   "cell_type": "code",
   "execution_count": null,
   "id": "1a84dc4c",
   "metadata": {},
   "outputs": [],
   "source": [
    "# Further tests as needed\n",
    "\n",
    "\"\"\"complete_dataset = train_write_path\n",
    "train_checker = TracingChecker(root_read_dir=complete_dataset)\n",
    "train_checker.check()\n",
    "\n",
    "\n",
    "for region in subregion_list:\n",
    "    paths = train_checker.get_img_paths_from_region_group([region])\n",
    "    print(len(paths))\n",
    "    \n",
    "paths = train_checker.get_all_original_folders()\n",
    "from collections import Counter\n",
    "\n",
    "print(Counter(paths))\"\"\""
   ]
  }
 ],
 "metadata": {
  "kernelspec": {
   "display_name": "AxonSurveyEnv",
   "language": "python",
   "name": "python3"
  },
  "language_info": {
   "codemirror_mode": {
    "name": "ipython",
    "version": 3
   },
   "file_extension": ".py",
   "mimetype": "text/x-python",
   "name": "python",
   "nbconvert_exporter": "python",
   "pygments_lexer": "ipython3",
   "version": "3.10.18"
  }
 },
 "nbformat": 4,
 "nbformat_minor": 5
}
