{
 "cells": [
  {
   "cell_type": "code",
   "execution_count": 5,
   "metadata": {},
   "outputs": [],
   "source": [
    "from src.dataprep.FileOperations import SpecFileStructuror"
   ]
  },
  {
   "cell_type": "code",
   "execution_count": 6,
   "metadata": {},
   "outputs": [],
   "source": [
    "read_path = r\".\\data\\demo_test_project_scans\"\n",
    "# create an appropriate directory structure if it's not there already\n",
    "rat_list = [\"rat301\", \"rat302\", \"rat303\", \"rat304\", \"rat305\", \"rat306\"]\n",
    "bregma_list = {\"rat301\": [\"b516\", \"b468\", \"b420\", \"b276\", \"b228\", \"b096\"], \n",
    "                \"rat302\": [\"b252\", \"b521\"],\n",
    "                \"rat303\": [\"b252\", \"b521\", \"b533\"],\n",
    "                \"rat304\": [\"b252\", \"b521\", \"b121\"],\n",
    "                \"rat305\": [\"b252\", \"b521\"],\n",
    "                \"rat306\": [\"b252\", \"b521\"]    \n",
    "}\n",
    "subregion_list = ['Left', 'Right']\n",
    "\n",
    "file_structurer = SpecFileStructuror(rat_list, bregma_list, subregion_list, base_path=read_path)\n",
    "file_structurer.make_folders()"
   ]
  },
  {
   "cell_type": "code",
   "execution_count": 7,
   "metadata": {},
   "outputs": [],
   "source": [
    "# IN BETWEEN STEP, ADD ROIS AT THE RIGHT PLACE"
   ]
  },
  {
   "cell_type": "code",
   "execution_count": 8,
   "metadata": {},
   "outputs": [],
   "source": [
    "# from dataprep.ChannelSplitter import ChannelSplitter\n",
    "# c_split = ChannelSplitter(read_path)\n",
    "# c_split.split_all_images(channel_names=[\"th\", \"dbh\"])"
   ]
  }
 ],
 "metadata": {
  "kernelspec": {
   "display_name": "Python 3",
   "language": "python",
   "name": "python3"
  },
  "language_info": {
   "codemirror_mode": {
    "name": "ipython",
    "version": 3
   },
   "file_extension": ".py",
   "mimetype": "text/x-python",
   "name": "python",
   "nbconvert_exporter": "python",
   "pygments_lexer": "ipython3",
   "version": "3.10.17"
  }
 },
 "nbformat": 4,
 "nbformat_minor": 2
}
