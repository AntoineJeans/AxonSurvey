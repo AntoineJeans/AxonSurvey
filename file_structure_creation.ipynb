{
 "cells": [
  {
   "cell_type": "code",
   "execution_count": 5,
   "metadata": {},
   "outputs": [],
   "source": [
    "from src.dataprep.FileStructuror import SpecFileStructuror"
   ]
  },
  {
   "cell_type": "code",
   "execution_count": 6,
   "metadata": {},
   "outputs": [],
   "source": [
    "read_path = r\".\\data\\project_scans_quick_test\"\n",
    "# create an appropriate directory structure if it's not there already\n",
    "rat_list = [\"rat301\", \"rat302\"]\n",
    "bregma_list = {\"rat301\": [\"b516\", \"b468\", \"b420\", \"b276\", \"b228\", \"b096\"], \n",
    "                \"rat302\": [\"b252\"] \n",
    "}\n",
    "subregion_list = ['contra_inner', 'contra_outer', 'ipsi_inner', 'ipsi_outer']\n",
    "\n",
    "file_structurer = SpecFileStructuror(rat_list, bregma_list, subregion_list, base_path=read_path)\n",
    "file_structurer.make_folders()"
   ]
  },
  {
   "cell_type": "code",
   "execution_count": 7,
   "metadata": {},
   "outputs": [],
   "source": [
    "# IN BETWEEN STEP, ADD ROIS AT THE RIGHT PLACE"
   ]
  },
  {
   "cell_type": "code",
   "execution_count": 8,
   "metadata": {},
   "outputs": [],
   "source": [
    "# from dataprep.ChannelSplitter import ChannelSplitter\n",
    "# c_split = ChannelSplitter(read_path)\n",
    "# c_split.split_all_images(channel_names=[\"th\", \"dbh\"])"
   ]
  }
 ],
 "metadata": {
  "kernelspec": {
   "display_name": "AxonSurveyEnv",
   "language": "python",
   "name": "python3"
  },
  "language_info": {
   "codemirror_mode": {
    "name": "ipython",
    "version": 3
   },
   "file_extension": ".py",
   "mimetype": "text/x-python",
   "name": "python",
   "nbconvert_exporter": "python",
   "pygments_lexer": "ipython3",
   "version": "3.10.18"
  }
 },
 "nbformat": 4,
 "nbformat_minor": 2
}
