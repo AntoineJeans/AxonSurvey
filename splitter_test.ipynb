{
 "cells": [
  {
   "cell_type": "code",
   "execution_count": null,
   "id": "b471a213",
   "metadata": {},
   "outputs": [],
   "source": [
    "from src.utils.Splitter import Splitter\n",
    "import numpy as np\n",
    "\n",
    "from src.utils.viz import display_grayscale"
   ]
  },
  {
   "cell_type": "code",
   "execution_count": null,
   "id": "2e641e30",
   "metadata": {},
   "outputs": [],
   "source": [
    "from src.utils.viz import display_grayscale"
   ]
  },
  {
   "cell_type": "code",
   "execution_count": 3,
   "id": "be0dcf43",
   "metadata": {},
   "outputs": [],
   "source": [
    "def feature_map_to_property_map(feature_map):\n",
    "    # of size (a, b, n_features)\n",
    "    a, b = feature_map.shape[0], feature_map.shape[1]\n",
    "    features = np.mean(feature_map, axis=(0,1))\n",
    "    properties = np.random.random((3))\n",
    "    property_maps = [np.full((a, b), prop) for prop in properties]\n",
    "    return np.array(property_maps).transpose(1,2,0)"
   ]
  },
  {
   "cell_type": "code",
   "execution_count": 10,
   "id": "5be0f41c",
   "metadata": {},
   "outputs": [],
   "source": [
    "mask_func = feature_map_to_property_map\n",
    "# mean but count out the 0s\n",
    "### COULD CAUSE BUGS IDC\n",
    "join_func = lambda x, y: np.where(np.isnan(x), y, x)\n",
    "\n",
    "# batch size has no effect unless the underlying extractor has batch processing implemented, in which case it should accelerate everything\n",
    "splitter = Splitter(64, batch_size=1, mask_function=mask_func, join_function=join_func)"
   ]
  },
  {
   "cell_type": "code",
   "execution_count": 11,
   "id": "94ac07cc",
   "metadata": {},
   "outputs": [],
   "source": [
    "fake_features = np.random.random((412, 156, 5))"
   ]
  },
  {
   "cell_type": "code",
   "execution_count": 12,
   "id": "5bc257ae",
   "metadata": {},
   "outputs": [],
   "source": [
    "a = feature_map_to_property_map(fake_features)"
   ]
  },
  {
   "cell_type": "code",
   "execution_count": 13,
   "id": "0c1f173d",
   "metadata": {},
   "outputs": [],
   "source": [
    "output = splitter.process(fake_features)"
   ]
  },
  {
   "cell_type": "code",
   "execution_count": 14,
   "id": "7e12cc32",
   "metadata": {},
   "outputs": [
    {
     "data": {
      "text/plain": [
       "array([0.        , 0.        , 0.        , 0.        , 0.        ,\n",
       "       0.        , 0.        , 0.        , 0.        , 0.        ,\n",
       "       0.        , 0.        , 0.        , 0.        , 0.        ,\n",
       "       0.        , 0.        , 0.        , 0.        , 0.        ,\n",
       "       0.        , 0.        , 0.        , 0.        , 0.        ,\n",
       "       0.        , 0.        , 0.        , 0.        , 0.        ,\n",
       "       0.        , 0.        , 0.        , 0.        , 0.        ,\n",
       "       0.        , 0.        , 0.        , 0.        , 0.        ,\n",
       "       0.        , 0.        , 0.        , 0.        , 0.        ,\n",
       "       0.        , 0.        , 0.        , 0.        , 0.        ,\n",
       "       0.        , 0.        , 0.        , 0.        , 0.        ,\n",
       "       0.        , 0.        , 0.        , 0.        , 0.        ,\n",
       "       0.        , 0.        , 0.        , 0.        , 0.        ,\n",
       "       0.        , 0.        , 0.        , 0.        , 0.        ,\n",
       "       0.        , 0.        , 0.        , 0.        , 0.        ,\n",
       "       0.        , 0.        , 0.        , 0.        , 0.        ,\n",
       "       0.        , 0.        , 0.        , 0.        , 0.        ,\n",
       "       0.        , 0.        , 0.        , 0.        , 0.        ,\n",
       "       0.        , 0.        , 0.80419922, 0.80419922, 0.80419922,\n",
       "       0.80419922, 0.80419922, 0.80419922, 0.80419922, 0.80419922,\n",
       "       0.80419922, 0.80419922, 0.80419922, 0.80419922, 0.80419922,\n",
       "       0.80419922, 0.80419922, 0.80419922, 0.80419922, 0.80419922,\n",
       "       0.80419922, 0.80419922, 0.80419922, 0.80419922, 0.80419922,\n",
       "       0.80419922, 0.80419922, 0.80419922, 0.80419922, 0.80419922,\n",
       "       0.80419922, 0.80419922, 0.80419922, 0.80419922, 0.80419922,\n",
       "       0.80419922, 0.80419922, 0.80419922, 0.20336914, 0.20336914,\n",
       "       0.20336914, 0.20336914, 0.20336914, 0.20336914, 0.20336914,\n",
       "       0.20336914, 0.20336914, 0.20336914, 0.20336914, 0.20336914,\n",
       "       0.20336914, 0.20336914, 0.20336914, 0.20336914, 0.20336914,\n",
       "       0.20336914, 0.20336914, 0.20336914, 0.20336914, 0.20336914,\n",
       "       0.20336914, 0.20336914, 0.20336914, 0.20336914, 0.20336914,\n",
       "       0.20336914])"
      ]
     },
     "execution_count": 14,
     "metadata": {},
     "output_type": "execute_result"
    }
   ],
   "source": [
    "output[400, :, 2]"
   ]
  },
  {
   "cell_type": "code",
   "execution_count": 17,
   "id": "a531105a",
   "metadata": {},
   "outputs": [
    {
     "data": {
      "image/png": "[encoded data removed]",
      "text/plain": [
       "<Figure size 640x480 with 1 Axes>"
      ]
     },
     "metadata": {},
     "output_type": "display_data"
    }
   ],
   "source": [
    "display_grayscale(output[:, :, 0])"
   ]
  }
 ],
 "metadata": {
  "kernelspec": {
   "display_name": "unet_seg2",
   "language": "python",
   "name": "python3"
  },
  "language_info": {
   "codemirror_mode": {
    "name": "ipython",
    "version": 3
   },
   "file_extension": ".py",
   "mimetype": "text/x-python",
   "name": "python",
   "nbconvert_exporter": "python",
   "pygments_lexer": "ipython3",
   "version": "3.12.9"
  }
 },
 "nbformat": 4,
 "nbformat_minor": 5
}
